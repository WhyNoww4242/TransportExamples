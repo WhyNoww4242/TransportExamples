{
 "cells": [
  {
   "cell_type": "code",
   "execution_count": 17,
   "id": "56ca76aa-c31a-427d-b79c-dd06125a2eb4",
   "metadata": {},
   "outputs": [
    {
     "data": {
      "application/vnd.jupyter.widget-view+json": {
       "model_id": "11bff21d845a4e548f3bbcbfe6bda5e3",
       "version_major": 2,
       "version_minor": 0
      },
      "text/plain": [
       "VBox(children=(IntSlider(value=2, description='n:', layout=Layout(width='500px'), max=10, min=1), FloatSlider(…"
      ]
     },
     "metadata": {},
     "output_type": "display_data"
    },
    {
     "data": {
      "application/vnd.jupyter.widget-view+json": {
       "model_id": "d352324e9904481fa0cdb5f1e283ac9b",
       "version_major": 2,
       "version_minor": 0
      },
      "text/plain": [
       "Output()"
      ]
     },
     "metadata": {},
     "output_type": "display_data"
    }
   ],
   "source": [
    "# Important modules used\n",
    "import ipywidgets as widgets\n",
    "from IPython.display import display\n",
    "from scipy.special import erf\n",
    "from scipy.sparse import diags\n",
    "from scipy.integrate import odeint\n",
    "import matplotlib.pyplot as plt\n",
    "import numpy as np\n",
    "\n",
    "# finite fourier transform function\n",
    "def fft(x, t, n):\n",
    "    f = 1 - x  # Steady state solution\n",
    "    psi = 0  # Set inital summation to zero\n",
    "    for i in range(1, n+1):  # sums the solution to n terms\n",
    "        psi += (np.sin(i*np.pi*x)/(i*np.pi))*np.exp(-(i*np.pi)**2*t)\n",
    "    return f - 2*psi\n",
    "\n",
    "# Similarity solution funciton\n",
    "def simSln(x, t):\n",
    "    eta = x/(2*np.sqrt(t))  # Calculates Similarity variable\n",
    "    return 1 - erf(eta)\n",
    "\n",
    "# Method of lines solver (solves PDEs)\n",
    "def MOL(x,t):\n",
    "    n = x.size  # finds domain size for matrix\n",
    "    delta_x = x[1]-x[0]\n",
    "    # generates sparse matrix   \n",
    "    diagonals = [-2, 1, 1]\n",
    "    offsets = [0, -1, 1]\n",
    "    A = diags(diagonals, offsets, shape=(n, n), format='csr')\n",
    "    # converts sparse matrix into a full array\n",
    "    A = A.toarray()\n",
    "    # Setting up matrix to be solve as an ODE\n",
    "    A[0,:] = 0\n",
    "    A[n-1,:] = 0\n",
    "    # scales matrix by 1/delta x^2 because of finite difference    \n",
    "    A = (1/delta_x**2)*A\n",
    "    inital = np.zeros(x.size)\n",
    "    time = np.linspace(0,t,x.size)\n",
    "    b = 1  # this b is only add so function so (A,b) is a tuple \n",
    "    # Derivative of theta with respect to time as defined by finite difference\n",
    "    def theta_dt(theta,t,A,b):\n",
    "        # Sets up boundary conditions\n",
    "        theta[0] = 1\n",
    "        theta[-1] = 0\n",
    "        return np.dot(A,theta)\n",
    "\n",
    "    # Solves the system of equation using scipy ODEint\n",
    "    theta = odeint(theta_dt, inital, time, args=(A,b))\n",
    "    theta_final = theta[-1]  # Uses only the last time point for graphing\n",
    "    return theta_final\n",
    "    \n",
    "# Makes slider longer\n",
    "slider_layout = widgets.Layout(width='500px')\n",
    "# Create sliders\n",
    "n_slider = widgets.IntSlider(value=2, min=1, \n",
    "    max=10, step=1, description='n:',layout=slider_layout)\n",
    "t_slider = widgets.FloatSlider(value=0.010, min=0.0001,\n",
    "    max=0.5, step=0.0001, description='t:',layout=slider_layout)\n",
    "\n",
    "# Create output widget for the plot\n",
    "output = widgets.Output()\n",
    "\n",
    "# Function to handle slider value changes and update the plot\n",
    "def update_plot(change):\n",
    "    # This is what updates the plot every time the slider is moved\n",
    "    with output:\n",
    "        output.clear_output(wait=True)\n",
    "        n = n_slider.value\n",
    "        t = t_slider.value\n",
    "        # Defines the domain and runs the 3 solutions\n",
    "        x = np.linspace(0, 1, 200)\n",
    "        y1 = fft(x, t, n)\n",
    "        y2 = simSln(x, t)\n",
    "        y3 = MOL(x, t)\n",
    "        # Plotting stuff\n",
    "        plt.figure(figsize=(10, 6), dpi=300)\n",
    "        #plt.plot(x, y1, color='DarkRed', label='FFT')\n",
    "        plt.plot(x, y2, color='Coral', label='Similarity Solution')\n",
    "        plt.plot(x, y3, color='Indigo', linestyle = ':', label='Numerical Solution')\n",
    "        plt.xlabel('x', fontsize=12)\n",
    "        plt.ylabel('θ', fontsize=14, \n",
    "            rotation=0, labelpad=15)\n",
    "        plt.ylim(-0.1, 1.2)\n",
    "        plt.legend()\n",
    "        plt.tight_layout()\n",
    "        plt.show()\n",
    "\n",
    "# Observe slider value changes\n",
    "n_slider.observe(update_plot, names='value')\n",
    "t_slider.observe(update_plot, names='value')\n",
    "\n",
    "# Create a vertical box layout\n",
    "sliders = widgets.VBox([n_slider, t_slider])\n",
    "\n",
    "# Display sliders and output\n",
    "display(sliders, output)\n",
    "\n",
    "# Initial plot\n",
    "update_plot(None)"
   ]
  }
 ],
 "metadata": {
  "kernelspec": {
   "display_name": "Python 3 (ipykernel)",
   "language": "python",
   "name": "python3"
  },
  "language_info": {
   "codemirror_mode": {
    "name": "ipython",
    "version": 3
   },
   "file_extension": ".py",
   "mimetype": "text/x-python",
   "name": "python",
   "nbconvert_exporter": "python",
   "pygments_lexer": "ipython3",
   "version": "3.12.2"
  }
 },
 "nbformat": 4,
 "nbformat_minor": 5
}
